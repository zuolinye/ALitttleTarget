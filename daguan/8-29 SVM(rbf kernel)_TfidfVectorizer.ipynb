{
 "cells": [
  {
   "cell_type": "code",
   "execution_count": 1,
   "metadata": {},
   "outputs": [],
   "source": [
    "import os\n",
    "import pandas as pd\n",
    "from sklearn import svm\n",
    "from sklearn.svm import SVC\n",
    "from sklearn.linear_model import LogisticRegression\n",
    "from sklearn.feature_extraction.text import TfidfVectorizer"
   ]
  },
  {
   "cell_type": "code",
   "execution_count": 2,
   "metadata": {},
   "outputs": [],
   "source": [
    "#: 加载原始数据\n",
    "def load_raw_data(data_dir = '.'):\n",
    "    train_data_path = os.path.join(data_dir,'train_set.csv')\n",
    "    test_data_path = os.path.join(data_dir,'test_set.csv')\n",
    "    \n",
    "    df_train = pd.read_csv(train_data_path) # 读取训练集数据\n",
    "    df_test = pd.read_csv(test_data_path) # 读取测试集数据\n",
    "    \n",
    "    df_train.drop(columns = ['article','id'], inplace = True) # 删除训练集中的article列\n",
    "    df_test.drop(columns = ['article'], inplace = True) # 删除测试集中的article列\n",
    "    \n",
    "    return df_train, df_test"
   ]
  },
  {
   "cell_type": "code",
   "execution_count": 3,
   "metadata": {},
   "outputs": [],
   "source": [
    "#: 特征提取\n",
    "def extract_features(raw_train, raw_test):\n",
    "    vectorizer = TfidfVectorizer(\n",
    "        ngram_range = (1,2), \n",
    "        min_df = 3, \n",
    "        max_df = 0.9, \n",
    "        max_features = 100000) # 初始化一个CountVectorizer对象\n",
    "    vectorizer.fit(raw_train['word_seg']) # 构建词汇表\n",
    "    \n",
    "    x_train = vectorizer.transform(raw_train['word_seg']) # 将一篇文章转为与其对应的一个特征向量\n",
    "    x_test = vectorizer.transform(raw_test['word_seg']) # 将一篇文章转为与其对应的一个特征向量\n",
    "    y_train = raw_train['class']-1 # 因为从0开始计算，所以要将原值-1\n",
    "    y_test = None # to predict\n",
    "    \n",
    "    return x_train, y_train, x_test, y_test"
   ]
  },
  {
   "cell_type": "code",
   "execution_count": null,
   "metadata": {},
   "outputs": [],
   "source": [
    "print ('开始训练...')\n",
    "print ('-[stage I] Loading Data ...')\n",
    "%time raw_train, raw_test = load_raw_data('.')\n",
    "\n",
    "print ('-[stage Ⅱ] Extracting Features ...')\n",
    "%time x_train, y_train, x_test, y_test = extract_features(raw_train, raw_test)\n",
    "print ('-[stage Ⅲ] Traing and Predicting ...')\n",
    "%time\n",
    "clf = svm.SVC(kernel='rbf', C=10, gamma=0.001, verbose=0) # 初始化一个分类器\n",
    "clf.fit(x_train, y_train) # 训练这个分类器\n",
    "\n",
    "# 根据上面训练好的分类器对测试集的每个样本进行预测\n",
    "y_test = clf.predict(x_test)"
   ]
  },
  {
   "cell_type": "code",
   "execution_count": null,
   "metadata": {},
   "outputs": [],
   "source": [
    "raw_test['class'] = y_test.tolist() # 转换为Python的List形式\n",
    "raw_test['class'] = raw_test['class'] + 1 # 将class + 1，保证和官方的预测值一致\n",
    "raw_result = raw_test.loc[:, ['id', 'class']]\n",
    "raw_result.to_csv('./result.csv', index = False) # 将结果保存至本地文件"
   ]
  },
  {
   "cell_type": "code",
   "execution_count": null,
   "metadata": {},
   "outputs": [],
   "source": []
  }
 ],
 "metadata": {
  "kernelspec": {
   "display_name": "Python 3",
   "language": "python",
   "name": "python3"
  },
  "language_info": {
   "codemirror_mode": {
    "name": "ipython",
    "version": 3
   },
   "file_extension": ".py",
   "mimetype": "text/x-python",
   "name": "python",
   "nbconvert_exporter": "python",
   "pygments_lexer": "ipython3",
   "version": "3.6.0"
  }
 },
 "nbformat": 4,
 "nbformat_minor": 2
}
