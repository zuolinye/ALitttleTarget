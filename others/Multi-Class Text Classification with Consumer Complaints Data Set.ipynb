{
 "cells": [
  {
   "cell_type": "markdown",
   "metadata": {},
   "source": [
    "This project is based on the article of Susan Li on towardsdatascience.com for practice purposes\n",
    "https://towardsdatascience.com/multi-class-text-classification-with-scikit-learn-12f1e60e0a9f"
   ]
  },
  {
   "cell_type": "markdown",
   "metadata": {},
   "source": [
    "## Problem Formulation\n",
    "\n",
    "The problem is supervised text classification problem, and our goal is to investigate which supervised machine learning methods are best suited to solve it.\n",
    "\n",
    "Given a new complaint comes in, we want to assign it to one of 12 categories. The classifier makes the assumption that each new complaint is assigned to one and only one category. This is multi-class text classification problem. I can’t wait to see what we can achieve!"
   ]
  },
  {
   "cell_type": "markdown",
   "metadata": {},
   "source": [
    "## Data Exploration\n",
    "\n",
    "We're going to classify Consumer Finance Complaints into 12 pre-defined classes. The data can be downloaded from data.gov.\n",
    "https://catalog.data.gov/dataset/consumer-complaint-database\n",
    "\n",
    "Before diving into training machine learning models, we should look at some examples first and the number of complaints in each class:"
   ]
  },
  {
   "cell_type": "code",
   "execution_count": 28,
   "metadata": {},
   "outputs": [],
   "source": [
    "import pandas as pd\n",
    "from io import StringIO\n",
    "import matplotlib.pyplot as plt\n",
    "from sklearn.feature_selection import chi2\n",
    "import numpy as np\n",
    "import nltk\n",
    "from sklearn.feature_extraction.text import TfidfVectorizer"
   ]
  },
  {
   "cell_type": "code",
   "execution_count": 29,
   "metadata": {},
   "outputs": [
    {
     "data": {
      "text/html": [
       "<div>\n",
       "<style scoped>\n",
       "    .dataframe tbody tr th:only-of-type {\n",
       "        vertical-align: middle;\n",
       "    }\n",
       "\n",
       "    .dataframe tbody tr th {\n",
       "        vertical-align: top;\n",
       "    }\n",
       "\n",
       "    .dataframe thead th {\n",
       "        text-align: right;\n",
       "    }\n",
       "</style>\n",
       "<table border=\"1\" class=\"dataframe\">\n",
       "  <thead>\n",
       "    <tr style=\"text-align: right;\">\n",
       "      <th></th>\n",
       "      <th>Date received</th>\n",
       "      <th>Product</th>\n",
       "      <th>Sub-product</th>\n",
       "      <th>Issue</th>\n",
       "      <th>Sub-issue</th>\n",
       "      <th>Consumer complaint narrative</th>\n",
       "      <th>Company public response</th>\n",
       "      <th>Company</th>\n",
       "      <th>State</th>\n",
       "      <th>ZIP code</th>\n",
       "      <th>Tags</th>\n",
       "      <th>Consumer consent provided?</th>\n",
       "      <th>Submitted via</th>\n",
       "      <th>Date sent to company</th>\n",
       "      <th>Company response to consumer</th>\n",
       "      <th>Timely response?</th>\n",
       "      <th>Consumer disputed?</th>\n",
       "      <th>Complaint ID</th>\n",
       "    </tr>\n",
       "  </thead>\n",
       "  <tbody>\n",
       "    <tr>\n",
       "      <th>0</th>\n",
       "      <td>03/12/2014</td>\n",
       "      <td>Mortgage</td>\n",
       "      <td>Other mortgage</td>\n",
       "      <td>Loan modification,collection,foreclosure</td>\n",
       "      <td>NaN</td>\n",
       "      <td>NaN</td>\n",
       "      <td>NaN</td>\n",
       "      <td>M&amp;T BANK CORPORATION</td>\n",
       "      <td>MI</td>\n",
       "      <td>48382</td>\n",
       "      <td>NaN</td>\n",
       "      <td>NaN</td>\n",
       "      <td>Referral</td>\n",
       "      <td>03/17/2014</td>\n",
       "      <td>Closed with explanation</td>\n",
       "      <td>Yes</td>\n",
       "      <td>No</td>\n",
       "      <td>759217</td>\n",
       "    </tr>\n",
       "    <tr>\n",
       "      <th>1</th>\n",
       "      <td>06/08/2014</td>\n",
       "      <td>Credit card</td>\n",
       "      <td>NaN</td>\n",
       "      <td>Bankruptcy</td>\n",
       "      <td>NaN</td>\n",
       "      <td>NaN</td>\n",
       "      <td>NaN</td>\n",
       "      <td>AMERICAN EXPRESS COMPANY</td>\n",
       "      <td>ID</td>\n",
       "      <td>83854</td>\n",
       "      <td>Older American</td>\n",
       "      <td>NaN</td>\n",
       "      <td>Web</td>\n",
       "      <td>06/10/2014</td>\n",
       "      <td>Closed with explanation</td>\n",
       "      <td>Yes</td>\n",
       "      <td>Yes</td>\n",
       "      <td>885638</td>\n",
       "    </tr>\n",
       "    <tr>\n",
       "      <th>2</th>\n",
       "      <td>09/13/2014</td>\n",
       "      <td>Debt collection</td>\n",
       "      <td>Credit card</td>\n",
       "      <td>Communication tactics</td>\n",
       "      <td>Frequent or repeated calls</td>\n",
       "      <td>NaN</td>\n",
       "      <td>NaN</td>\n",
       "      <td>CITIBANK, N.A.</td>\n",
       "      <td>VA</td>\n",
       "      <td>23233</td>\n",
       "      <td>NaN</td>\n",
       "      <td>NaN</td>\n",
       "      <td>Web</td>\n",
       "      <td>09/13/2014</td>\n",
       "      <td>Closed with explanation</td>\n",
       "      <td>Yes</td>\n",
       "      <td>Yes</td>\n",
       "      <td>1027760</td>\n",
       "    </tr>\n",
       "    <tr>\n",
       "      <th>3</th>\n",
       "      <td>11/13/2013</td>\n",
       "      <td>Mortgage</td>\n",
       "      <td>Conventional adjustable mortgage (ARM)</td>\n",
       "      <td>Loan servicing, payments, escrow account</td>\n",
       "      <td>NaN</td>\n",
       "      <td>NaN</td>\n",
       "      <td>NaN</td>\n",
       "      <td>U.S. BANCORP</td>\n",
       "      <td>MN</td>\n",
       "      <td>48322</td>\n",
       "      <td>NaN</td>\n",
       "      <td>NaN</td>\n",
       "      <td>Phone</td>\n",
       "      <td>11/20/2013</td>\n",
       "      <td>Closed with monetary relief</td>\n",
       "      <td>Yes</td>\n",
       "      <td>No</td>\n",
       "      <td>596562</td>\n",
       "    </tr>\n",
       "    <tr>\n",
       "      <th>4</th>\n",
       "      <td>06/16/2015</td>\n",
       "      <td>Debt collection</td>\n",
       "      <td>Medical</td>\n",
       "      <td>Improper contact or sharing of info</td>\n",
       "      <td>Contacted employer after asked not to</td>\n",
       "      <td>NaN</td>\n",
       "      <td>Company believes it acted appropriately as aut...</td>\n",
       "      <td>California Accounts Service</td>\n",
       "      <td>CA</td>\n",
       "      <td>92111</td>\n",
       "      <td>NaN</td>\n",
       "      <td>Consent not provided</td>\n",
       "      <td>Web</td>\n",
       "      <td>06/19/2015</td>\n",
       "      <td>Closed with explanation</td>\n",
       "      <td>Yes</td>\n",
       "      <td>No</td>\n",
       "      <td>1422680</td>\n",
       "    </tr>\n",
       "  </tbody>\n",
       "</table>\n",
       "</div>"
      ],
      "text/plain": [
       "  Date received          Product                             Sub-product  \\\n",
       "0    03/12/2014         Mortgage                          Other mortgage   \n",
       "1    06/08/2014      Credit card                                     NaN   \n",
       "2    09/13/2014  Debt collection                             Credit card   \n",
       "3    11/13/2013         Mortgage  Conventional adjustable mortgage (ARM)   \n",
       "4    06/16/2015  Debt collection                                 Medical   \n",
       "\n",
       "                                      Issue  \\\n",
       "0  Loan modification,collection,foreclosure   \n",
       "1                                Bankruptcy   \n",
       "2                     Communication tactics   \n",
       "3  Loan servicing, payments, escrow account   \n",
       "4       Improper contact or sharing of info   \n",
       "\n",
       "                               Sub-issue Consumer complaint narrative  \\\n",
       "0                                    NaN                          NaN   \n",
       "1                                    NaN                          NaN   \n",
       "2             Frequent or repeated calls                          NaN   \n",
       "3                                    NaN                          NaN   \n",
       "4  Contacted employer after asked not to                          NaN   \n",
       "\n",
       "                             Company public response  \\\n",
       "0                                                NaN   \n",
       "1                                                NaN   \n",
       "2                                                NaN   \n",
       "3                                                NaN   \n",
       "4  Company believes it acted appropriately as aut...   \n",
       "\n",
       "                       Company State ZIP code            Tags  \\\n",
       "0         M&T BANK CORPORATION    MI    48382             NaN   \n",
       "1     AMERICAN EXPRESS COMPANY    ID    83854  Older American   \n",
       "2               CITIBANK, N.A.    VA    23233             NaN   \n",
       "3                 U.S. BANCORP    MN    48322             NaN   \n",
       "4  California Accounts Service    CA    92111             NaN   \n",
       "\n",
       "  Consumer consent provided? Submitted via Date sent to company  \\\n",
       "0                        NaN      Referral           03/17/2014   \n",
       "1                        NaN           Web           06/10/2014   \n",
       "2                        NaN           Web           09/13/2014   \n",
       "3                        NaN         Phone           11/20/2013   \n",
       "4       Consent not provided           Web           06/19/2015   \n",
       "\n",
       "  Company response to consumer Timely response? Consumer disputed?  \\\n",
       "0      Closed with explanation              Yes                 No   \n",
       "1      Closed with explanation              Yes                Yes   \n",
       "2      Closed with explanation              Yes                Yes   \n",
       "3  Closed with monetary relief              Yes                 No   \n",
       "4      Closed with explanation              Yes                 No   \n",
       "\n",
       "   Complaint ID  \n",
       "0        759217  \n",
       "1        885638  \n",
       "2       1027760  \n",
       "3        596562  \n",
       "4       1422680  "
      ]
     },
     "execution_count": 29,
     "metadata": {},
     "output_type": "execute_result"
    }
   ],
   "source": [
    "df = pd.read_csv('Consumer_Complaints.csv')\n",
    "df.head()"
   ]
  },
  {
   "cell_type": "code",
   "execution_count": 30,
   "metadata": {},
   "outputs": [
    {
     "data": {
      "text/html": [
       "<div>\n",
       "<style scoped>\n",
       "    .dataframe tbody tr th:only-of-type {\n",
       "        vertical-align: middle;\n",
       "    }\n",
       "\n",
       "    .dataframe tbody tr th {\n",
       "        vertical-align: top;\n",
       "    }\n",
       "\n",
       "    .dataframe thead th {\n",
       "        text-align: right;\n",
       "    }\n",
       "</style>\n",
       "<table border=\"1\" class=\"dataframe\">\n",
       "  <thead>\n",
       "    <tr style=\"text-align: right;\">\n",
       "      <th></th>\n",
       "      <th>Product</th>\n",
       "      <th>Consumer complaint narrative</th>\n",
       "      <th>category_id</th>\n",
       "    </tr>\n",
       "  </thead>\n",
       "  <tbody>\n",
       "    <tr>\n",
       "      <th>5</th>\n",
       "      <td>Credit reporting</td>\n",
       "      <td>An account on my credit report has a mistaken ...</td>\n",
       "      <td>0</td>\n",
       "    </tr>\n",
       "    <tr>\n",
       "      <th>10</th>\n",
       "      <td>Debt collection</td>\n",
       "      <td>This company refuses to provide me verificatio...</td>\n",
       "      <td>1</td>\n",
       "    </tr>\n",
       "    <tr>\n",
       "      <th>21</th>\n",
       "      <td>Mortgage</td>\n",
       "      <td>Started the refinance of home mortgage process...</td>\n",
       "      <td>2</td>\n",
       "    </tr>\n",
       "    <tr>\n",
       "      <th>22</th>\n",
       "      <td>Mortgage</td>\n",
       "      <td>In XXXX, I and my ex-husband applied for a ref...</td>\n",
       "      <td>2</td>\n",
       "    </tr>\n",
       "    <tr>\n",
       "      <th>23</th>\n",
       "      <td>Credit reporting</td>\n",
       "      <td>I have disputed several accounts on my credit ...</td>\n",
       "      <td>0</td>\n",
       "    </tr>\n",
       "  </tbody>\n",
       "</table>\n",
       "</div>"
      ],
      "text/plain": [
       "             Product                       Consumer complaint narrative  \\\n",
       "5   Credit reporting  An account on my credit report has a mistaken ...   \n",
       "10   Debt collection  This company refuses to provide me verificatio...   \n",
       "21          Mortgage  Started the refinance of home mortgage process...   \n",
       "22          Mortgage  In XXXX, I and my ex-husband applied for a ref...   \n",
       "23  Credit reporting  I have disputed several accounts on my credit ...   \n",
       "\n",
       "    category_id  \n",
       "5             0  \n",
       "10            1  \n",
       "21            2  \n",
       "22            2  \n",
       "23            0  "
      ]
     },
     "execution_count": 30,
     "metadata": {},
     "output_type": "execute_result"
    }
   ],
   "source": [
    "col = ['Product', 'Consumer complaint narrative']\n",
    "df = df[col]\n",
    "\n",
    "df = df[pd.notnull(df['Consumer complaint narrative'])]\n",
    "\n",
    "df.columns = col\n",
    "\n",
    "df['category_id'] = df['Product'].factorize()[0]\n",
    "\n",
    "category_id_df = df[['Product', 'category_id']].drop_duplicates().sort_values('category_id')\n",
    "\n",
    "category_to_id = dict(category_id_df.values)\n",
    "\n",
    "id_to_category = dict(category_id_df[['category_id', 'Product']].values)\n",
    "\n",
    "df.head()"
   ]
  },
  {
   "cell_type": "code",
   "execution_count": 31,
   "metadata": {},
   "outputs": [
    {
     "data": {
      "image/png": "[encoded data removed]",
      "text/plain": [
       "<matplotlib.figure.Figure at 0x7faf8a64e5c0>"
      ]
     },
     "metadata": {},
     "output_type": "display_data"
    }
   ],
   "source": [
    "fig = plt.figure(figsize=(8,6))\n",
    "df.groupby('Product')['Consumer complaint narrative'].count().plot.bar(ylim=0)\n",
    "plt.show()"
   ]
  },
  {
   "cell_type": "markdown",
   "metadata": {},
   "source": [
    "### Imbalanced Classes\n",
    "We see that the number of complaints per product is imbalanced. Consumers’ complaints are more biased towards Debt collection, Credit reporting and Mortgage."
   ]
  },
  {
   "cell_type": "markdown",
   "metadata": {},
   "source": [
    "When we encounter such problems, we are bound to have difficulties solving them with standard algorithms. Conventional algorithms are often biased towards the majority class, not taking the data distribution into consideration. In the worst case, minority classes are treated as outliers and ignored. For some cases, such as fraud detection or cancer prediction, we would need to carefully configure our model or artificially balance the dataset, for example by undersampling or oversampling each class."
   ]
  },
  {
   "cell_type": "markdown",
   "metadata": {},
   "source": [
    "However, in our case of learning imbalanced data, the majority classes might be of our great interest. It is desirable to have a classifier that gives high prediction accuracy over the majority class, while maintaining reasonable accuracy for the minority classes. Therefore, we will leave it as it is."
   ]
  },
  {
   "cell_type": "markdown",
   "metadata": {},
   "source": [
    "## Text Representation\n",
    "The classifiers and learning algorithms can not directly process the text documents in their original form, as most of them expect numerical feature vectors with a fixed size rather than the raw text documents with variable length. Therefore, during the preprocessing step, the texts are converted to a more manageable representation.\n",
    "\n",
    "One common approach for extracting features from text is to use the bag of words model: a model where for each document, a complaint narrative in our case, the presence (and often the frequency) of words is taken into consideration, but the order in which they occur is ignored.\n",
    "\n",
    "Specifically, for each term in our dataset, we will calculate a measure called Term Frequency, Inverse Document Frequency, abbreviated to tf-idf. We will use sklearn.feature_extraction.text.TfidfVectorizer to calculate a tf-idf vector for each of consumer complaint narratives:"
   ]
  },
  {
   "cell_type": "code",
   "execution_count": 32,
   "metadata": {},
   "outputs": [],
   "source": [
    "tfidf = TfidfVectorizer(sublinear_tf=True, min_df=5, norm='l2', encoding='latin-1', ngram_range=(1, 2), stop_words='english')\n",
    "#sublinear_df is set to True to use a logarithmic form for frequency.\n",
    "#min_df is the minimum numbers of documents a word must be present in to be kept.\n",
    "#norm is set to l2, to ensure all our feature vectors have a euclidian norm of 1.\n",
    "#ngram_range is set to (1, 2) to indicate that we want to consider both unigrams and bigrams.\n",
    "#stop_words is set to \"english\" to remove all common pronouns (\"a\", \"the\", ...) to reduce the number of noisy features.\n"
   ]
  },
  {
   "cell_type": "code",
   "execution_count": 33,
   "metadata": {},
   "outputs": [
    {
     "ename": "MemoryError",
     "evalue": "",
     "output_type": "error",
     "traceback": [
      "\u001b[0;31m---------------------------------------------------------------------------\u001b[0m",
      "\u001b[0;31mMemoryError\u001b[0m                               Traceback (most recent call last)",
      "\u001b[0;32m<ipython-input-33-122f249181a5>\u001b[0m in \u001b[0;36m<module>\u001b[0;34m()\u001b[0m\n\u001b[0;32m----> 1\u001b[0;31m \u001b[0mfeatures\u001b[0m \u001b[0;34m=\u001b[0m \u001b[0mtfidf\u001b[0m\u001b[0;34m.\u001b[0m\u001b[0mfit_transform\u001b[0m\u001b[0;34m(\u001b[0m\u001b[0mdf\u001b[0m\u001b[0;34m[\u001b[0m\u001b[0;34m'Consumer complaint narrative'\u001b[0m\u001b[0;34m]\u001b[0m\u001b[0;34m)\u001b[0m\u001b[0;34m.\u001b[0m\u001b[0mtoarray\u001b[0m\u001b[0;34m(\u001b[0m\u001b[0;34m)\u001b[0m\u001b[0;34m\u001b[0m\u001b[0m\n\u001b[0m",
      "\u001b[0;32m~/anaconda3/lib/python3.6/site-packages/scipy/sparse/compressed.py\u001b[0m in \u001b[0;36mtoarray\u001b[0;34m(self, order, out)\u001b[0m\n\u001b[1;32m    941\u001b[0m         \u001b[0;32mif\u001b[0m \u001b[0mout\u001b[0m \u001b[0;32mis\u001b[0m \u001b[0;32mNone\u001b[0m \u001b[0;32mand\u001b[0m \u001b[0morder\u001b[0m \u001b[0;32mis\u001b[0m \u001b[0;32mNone\u001b[0m\u001b[0;34m:\u001b[0m\u001b[0;34m\u001b[0m\u001b[0m\n\u001b[1;32m    942\u001b[0m             \u001b[0morder\u001b[0m \u001b[0;34m=\u001b[0m \u001b[0mself\u001b[0m\u001b[0;34m.\u001b[0m\u001b[0m_swap\u001b[0m\u001b[0;34m(\u001b[0m\u001b[0;34m'cf'\u001b[0m\u001b[0;34m)\u001b[0m\u001b[0;34m[\u001b[0m\u001b[0;36m0\u001b[0m\u001b[0;34m]\u001b[0m\u001b[0;34m\u001b[0m\u001b[0m\n\u001b[0;32m--> 943\u001b[0;31m         \u001b[0mout\u001b[0m \u001b[0;34m=\u001b[0m \u001b[0mself\u001b[0m\u001b[0;34m.\u001b[0m\u001b[0m_process_toarray_args\u001b[0m\u001b[0;34m(\u001b[0m\u001b[0morder\u001b[0m\u001b[0;34m,\u001b[0m \u001b[0mout\u001b[0m\u001b[0;34m)\u001b[0m\u001b[0;34m\u001b[0m\u001b[0m\n\u001b[0m\u001b[1;32m    944\u001b[0m         \u001b[0;32mif\u001b[0m \u001b[0;32mnot\u001b[0m \u001b[0;34m(\u001b[0m\u001b[0mout\u001b[0m\u001b[0;34m.\u001b[0m\u001b[0mflags\u001b[0m\u001b[0;34m.\u001b[0m\u001b[0mc_contiguous\u001b[0m \u001b[0;32mor\u001b[0m \u001b[0mout\u001b[0m\u001b[0;34m.\u001b[0m\u001b[0mflags\u001b[0m\u001b[0;34m.\u001b[0m\u001b[0mf_contiguous\u001b[0m\u001b[0;34m)\u001b[0m\u001b[0;34m:\u001b[0m\u001b[0;34m\u001b[0m\u001b[0m\n\u001b[1;32m    945\u001b[0m             \u001b[0;32mraise\u001b[0m \u001b[0mValueError\u001b[0m\u001b[0;34m(\u001b[0m\u001b[0;34m'Output array must be C or F contiguous'\u001b[0m\u001b[0;34m)\u001b[0m\u001b[0;34m\u001b[0m\u001b[0m\n",
      "\u001b[0;32m~/anaconda3/lib/python3.6/site-packages/scipy/sparse/base.py\u001b[0m in \u001b[0;36m_process_toarray_args\u001b[0;34m(self, order, out)\u001b[0m\n\u001b[1;32m   1128\u001b[0m             \u001b[0;32mreturn\u001b[0m \u001b[0mout\u001b[0m\u001b[0;34m\u001b[0m\u001b[0m\n\u001b[1;32m   1129\u001b[0m         \u001b[0;32melse\u001b[0m\u001b[0;34m:\u001b[0m\u001b[0;34m\u001b[0m\u001b[0m\n\u001b[0;32m-> 1130\u001b[0;31m             \u001b[0;32mreturn\u001b[0m \u001b[0mnp\u001b[0m\u001b[0;34m.\u001b[0m\u001b[0mzeros\u001b[0m\u001b[0;34m(\u001b[0m\u001b[0mself\u001b[0m\u001b[0;34m.\u001b[0m\u001b[0mshape\u001b[0m\u001b[0;34m,\u001b[0m \u001b[0mdtype\u001b[0m\u001b[0;34m=\u001b[0m\u001b[0mself\u001b[0m\u001b[0;34m.\u001b[0m\u001b[0mdtype\u001b[0m\u001b[0;34m,\u001b[0m \u001b[0morder\u001b[0m\u001b[0;34m=\u001b[0m\u001b[0morder\u001b[0m\u001b[0;34m)\u001b[0m\u001b[0;34m\u001b[0m\u001b[0m\n\u001b[0m\u001b[1;32m   1131\u001b[0m \u001b[0;34m\u001b[0m\u001b[0m\n\u001b[1;32m   1132\u001b[0m     \u001b[0;32mdef\u001b[0m \u001b[0m__numpy_ufunc__\u001b[0m\u001b[0;34m(\u001b[0m\u001b[0mself\u001b[0m\u001b[0;34m,\u001b[0m \u001b[0mfunc\u001b[0m\u001b[0;34m,\u001b[0m \u001b[0mmethod\u001b[0m\u001b[0;34m,\u001b[0m \u001b[0mpos\u001b[0m\u001b[0;34m,\u001b[0m \u001b[0minputs\u001b[0m\u001b[0;34m,\u001b[0m \u001b[0;34m**\u001b[0m\u001b[0mkwargs\u001b[0m\u001b[0;34m)\u001b[0m\u001b[0;34m:\u001b[0m\u001b[0;34m\u001b[0m\u001b[0m\n",
      "\u001b[0;31mMemoryError\u001b[0m: "
     ]
    }
   ],
   "source": [
    "features = tfidf.fit_transform(df['Consumer complaint narrative']).toarray()"
   ]
  },
  {
   "cell_type": "markdown",
   "metadata": {},
   "source": [
    "This project has practice purpose only.\n",
    "In order to handle memory problem I'll try decreasing the size of data set.(additional memory allocation didn't work)"
   ]
  },
  {
   "cell_type": "code",
   "execution_count": 34,
   "metadata": {},
   "outputs": [],
   "source": [
    "df = df.sample(3000)"
   ]
  },
  {
   "cell_type": "code",
   "execution_count": 35,
   "metadata": {},
   "outputs": [
    {
     "data": {
      "text/plain": [
       "(3000, 3)"
      ]
     },
     "execution_count": 35,
     "metadata": {},
     "output_type": "execute_result"
    }
   ],
   "source": [
    "df.shape"
   ]
  },
  {
   "cell_type": "code",
   "execution_count": 36,
   "metadata": {},
   "outputs": [],
   "source": [
    "features = tfidf.fit_transform(df['Consumer complaint narrative']).toarray()"
   ]
  },
  {
   "cell_type": "code",
   "execution_count": 37,
   "metadata": {},
   "outputs": [
    {
     "data": {
      "text/plain": [
       "(3000, 8426)"
      ]
     },
     "execution_count": 37,
     "metadata": {},
     "output_type": "execute_result"
    }
   ],
   "source": [
    "labels = df.category_id\n",
    "features.shape"
   ]
  },
  {
   "cell_type": "markdown",
   "metadata": {},
   "source": [
    "Now, each of 3000 consumer complaint narratives is represented by 8426 features, representing the tf-idf score for different unigrams and bigrams.\n",
    "\n",
    "We can use sklearn.feature_selection.chi2 to find the terms that are the most correlated with each of the products:"
   ]
  },
  {
   "cell_type": "code",
   "execution_count": 38,
   "metadata": {},
   "outputs": [
    {
     "name": "stdout",
     "output_type": "stream",
     "text": [
      "# 'Bank account or service':\n",
      "  . Most correlated unigrams:\n",
      ". deposit\n",
      ". overdraft\n",
      "  . Most correlated bigrams:\n",
      ". overdraft fees\n",
      ". debit card\n",
      "# 'Checking or savings account':\n",
      "  . Most correlated unigrams:\n",
      ". deposited\n",
      ". deposit\n",
      "  . Most correlated bigrams:\n",
      ". checking account\n",
      ". opened checking\n",
      "# 'Consumer Loan':\n",
      "  . Most correlated unigrams:\n",
      ". repossessed\n",
      ". vehicle\n",
      "  . Most correlated bigrams:\n",
      ". auto loan\n",
      ". purchased car\n",
      "# 'Credit card':\n",
      "  . Most correlated unigrams:\n",
      ". apr\n",
      ". card\n",
      "  . Most correlated bigrams:\n",
      ". american express\n",
      ". credit card\n",
      "# 'Credit card or prepaid card':\n",
      "  . Most correlated unigrams:\n",
      ". citi\n",
      ". card\n",
      "  . Most correlated bigrams:\n",
      ". minimum payment\n",
      ". credit card\n",
      "# 'Credit reporting':\n",
      "  . Most correlated unigrams:\n",
      ". report\n",
      ". experian\n",
      "  . Most correlated bigrams:\n",
      ". unauthorized fraudulent\n",
      ". information report\n",
      "# 'Credit reporting, credit repair services, or other personal consumer reports':\n",
      "  . Most correlated unigrams:\n",
      ". inquiries\n",
      ". equifax\n",
      "  . Most correlated bigrams:\n",
      ". equifax xxxx\n",
      ". credit report\n",
      "# 'Debt collection':\n",
      "  . Most correlated unigrams:\n",
      ". collection\n",
      ". debt\n",
      "  . Most correlated bigrams:\n",
      ". collection agency\n",
      ". collect debt\n",
      "# 'Money transfer, virtual currency, or money service':\n",
      "  . Most correlated unigrams:\n",
      ". usd\n",
      ". coinbase\n",
      "  . Most correlated bigrams:\n",
      ". account coinbase\n",
      ". coinbase account\n",
      "# 'Money transfers':\n",
      "  . Most correlated unigrams:\n",
      ". game\n",
      ". paypal\n",
      "  . Most correlated bigrams:\n",
      ". paypal account\n",
      ". xxxx paypal\n",
      "# 'Mortgage':\n",
      "  . Most correlated unigrams:\n",
      ". modification\n",
      ". mortgage\n",
      "  . Most correlated bigrams:\n",
      ". mortgage company\n",
      ". loan modification\n",
      "# 'Other financial service':\n",
      "  . Most correlated unigrams:\n",
      ". cashed\n",
      ". repair\n",
      "  . Most correlated bigrams:\n",
      ". credit repair\n",
      ". account provided\n",
      "# 'Payday loan':\n",
      "  . Most correlated unigrams:\n",
      ". serving\n",
      ". arrest\n",
      "  . Most correlated bigrams:\n",
      ". receiving calls\n",
      ". loan sent\n",
      "# 'Payday loan, title loan, or personal loan':\n",
      "  . Most correlated unigrams:\n",
      ". references\n",
      ". sunday\n",
      "  . Most correlated bigrams:\n",
      ". company stating\n",
      ". business accounts\n",
      "# 'Prepaid card':\n",
      "  . Most correlated unigrams:\n",
      ". stories\n",
      ". prepaid\n",
      "  . Most correlated bigrams:\n",
      ". access funds\n",
      ". direct deposits\n",
      "# 'Student loan':\n",
      "  . Most correlated unigrams:\n",
      ". loans\n",
      ". navient\n",
      "  . Most correlated bigrams:\n",
      ". student loan\n",
      ". student loans\n",
      "# 'Vehicle loan or lease':\n",
      "  . Most correlated unigrams:\n",
      ". car\n",
      ". dealer\n",
      "  . Most correlated bigrams:\n",
      ". credit acceptance\n",
      ". tell xxxx\n",
      "# 'Virtual currency':\n",
      "  . Most correlated unigrams:\n",
      ". employers\n",
      ". employer\n",
      "  . Most correlated bigrams:\n",
      ". employee xxxx\n",
      ". zero balance\n"
     ]
    }
   ],
   "source": [
    "N = 2\n",
    "for Product, category_id in sorted(category_to_id.items()):\n",
    "  features_chi2 = chi2(features, labels == category_id)\n",
    "  indices = np.argsort(features_chi2[0])\n",
    "  feature_names = np.array(tfidf.get_feature_names())[indices]\n",
    "  unigrams = [v for v in feature_names if len(v.split(' ')) == 1]\n",
    "  bigrams = [v for v in feature_names if len(v.split(' ')) == 2]\n",
    "  print(\"# '{}':\".format(Product))\n",
    "  print(\"  . Most correlated unigrams:\\n. {}\".format('\\n. '.join(unigrams[-N:])))\n",
    "  print(\"  . Most correlated bigrams:\\n. {}\".format('\\n. '.join(bigrams[-N:])))"
   ]
  },
  {
   "cell_type": "markdown",
   "metadata": {},
   "source": [
    "## Multi-Class Classifier: Features and Design\n",
    "To train supervised classifiers, we first transformed the “Consumer complaint narrative” into a vector of numbers. We explored vector representations such as TF-IDF weighted vectors.\n",
    "After having this vector representations of the text we can train supervised classifiers to train unseen “Consumer complaint narrative” and predict the “product” on which they fall.\n",
    "After all the above data transformation, now that we have all the features and labels, it is time to train the classifiers. There are a number of algorithms we can use for this type of problem."
   ]
  },
  {
   "cell_type": "markdown",
   "metadata": {},
   "source": [
    "### Naive Bayes Classifier:\n",
    "the one most suitable for word counts is the multinomial variant:"
   ]
  },
  {
   "cell_type": "code",
   "execution_count": 50,
   "metadata": {},
   "outputs": [],
   "source": [
    "from sklearn.model_selection import train_test_split\n",
    "from sklearn.feature_extraction.text import CountVectorizer\n",
    "from sklearn.feature_extraction.text import TfidfTransformer\n",
    "from sklearn.naive_bayes import MultinomialNB"
   ]
  },
  {
   "cell_type": "code",
   "execution_count": 52,
   "metadata": {},
   "outputs": [],
   "source": [
    "X_train, X_test, y_train, y_test = train_test_split(df['Consumer complaint narrative'], df['Product'], random_state = 0)"
   ]
  },
  {
   "cell_type": "code",
   "execution_count": 53,
   "metadata": {},
   "outputs": [],
   "source": [
    "count_vect = CountVectorizer()"
   ]
  },
  {
   "cell_type": "code",
   "execution_count": 54,
   "metadata": {},
   "outputs": [],
   "source": [
    "X_train_counts = count_vect.fit_transform(X_train)"
   ]
  },
  {
   "cell_type": "code",
   "execution_count": 55,
   "metadata": {},
   "outputs": [],
   "source": [
    "tfidf_transformer = TfidfTransformer()"
   ]
  },
  {
   "cell_type": "code",
   "execution_count": 56,
   "metadata": {},
   "outputs": [],
   "source": [
    "X_train_tfidf = tfidf_transformer.fit_transform(X_train_counts)"
   ]
  },
  {
   "cell_type": "code",
   "execution_count": 57,
   "metadata": {},
   "outputs": [],
   "source": [
    "clf = MultinomialNB().fit(X_train_tfidf, y_train)"
   ]
  },
  {
   "cell_type": "markdown",
   "metadata": {},
   "source": [
    "After fitting the training set, let’s make some predictions.\n",
    "\n"
   ]
  },
  {
   "cell_type": "code",
   "execution_count": 92,
   "metadata": {},
   "outputs": [
    {
     "name": "stdout",
     "output_type": "stream",
     "text": [
      "['Debt collection']\n"
     ]
    }
   ],
   "source": [
    "print(clf.predict(count_vect.transform([\"my name is XXXX XXXX i own the house at XXXX XXXX XXXX XXXX XXXX XXXX XXXX, my mortage company pacific union out of XXXX.well back in XXXX 2014 i received a letter saying that my escow was rasied XXXX. to XXXX a year for hazard insurance but i called my akin insurance and they said that it XXXX a year but pac union is been charging me for XXXX a year i wrote a letter and spoke with pac. union wont chage it and refuse to refund or correct amt.as my pay ment s monthly has gone from XXXX.month to XXXX a month thats XXXX more a year collected my number is XXXX XXXX central time my mortage number isXXXX..i want to take legel action against them for not honest.and over charging me.\"])))"
   ]
  },
  {
   "cell_type": "code",
   "execution_count": 91,
   "metadata": {},
   "outputs": [
    {
     "data": {
      "text/html": [
       "<div>\n",
       "<style scoped>\n",
       "    .dataframe tbody tr th:only-of-type {\n",
       "        vertical-align: middle;\n",
       "    }\n",
       "\n",
       "    .dataframe tbody tr th {\n",
       "        vertical-align: top;\n",
       "    }\n",
       "\n",
       "    .dataframe thead th {\n",
       "        text-align: right;\n",
       "    }\n",
       "</style>\n",
       "<table border=\"1\" class=\"dataframe\">\n",
       "  <thead>\n",
       "    <tr style=\"text-align: right;\">\n",
       "      <th></th>\n",
       "      <th>Product</th>\n",
       "      <th>Consumer complaint narrative</th>\n",
       "      <th>category_id</th>\n",
       "    </tr>\n",
       "  </thead>\n",
       "  <tbody>\n",
       "    <tr>\n",
       "      <th>1097358</th>\n",
       "      <td>Mortgage</td>\n",
       "      <td>my name is XXXX XXXX i own the house at XXXX X...</td>\n",
       "      <td>2</td>\n",
       "    </tr>\n",
       "  </tbody>\n",
       "</table>\n",
       "</div>"
      ],
      "text/plain": [
       "          Product                       Consumer complaint narrative  \\\n",
       "1097358  Mortgage  my name is XXXX XXXX i own the house at XXXX X...   \n",
       "\n",
       "         category_id  \n",
       "1097358            2  "
      ]
     },
     "execution_count": 91,
     "metadata": {},
     "output_type": "execute_result"
    }
   ],
   "source": [
    "df[df['Consumer complaint narrative'] == \"my name is XXXX XXXX i own the house at XXXX XXXX XXXX XXXX XXXX XXXX XXXX, my mortage company pacific union out of XXXX.well back in XXXX 2014 i received a letter saying that my escow was rasied XXXX. to XXXX a year for hazard insurance but i called my akin insurance and they said that it XXXX a year but pac union is been charging me for XXXX a year i wrote a letter and spoke with pac. union wont chage it and refuse to refund or correct amt.as my pay ment s monthly has gone from XXXX.month to XXXX a month thats XXXX more a year collected my number is XXXX XXXX central time my mortage number isXXXX..i want to take legel action against them for not honest.and over charging me.\"]"
   ]
  },
  {
   "cell_type": "code",
   "execution_count": 79,
   "metadata": {},
   "outputs": [
    {
     "name": "stdout",
     "output_type": "stream",
     "text": [
      "['Debt collection']\n"
     ]
    }
   ],
   "source": [
    "print(clf.predict(count_vect.transform([\"I received a call from ( XXXX ) XXXX telling me I was being served with papers would I be home. I demanded information from the lady that called and she told me to call Coastline at XXXX, ask for legal department and use reference number XXXX. I looked up the number and determined this is a scam on this website XXXX XXXX I gave them no information and do not plan on calling them back. I was sure this was a scam but now I know that it is.\"])))"
   ]
  },
  {
   "cell_type": "code",
   "execution_count": 81,
   "metadata": {},
   "outputs": [
    {
     "data": {
      "text/html": [
       "<div>\n",
       "<style scoped>\n",
       "    .dataframe tbody tr th:only-of-type {\n",
       "        vertical-align: middle;\n",
       "    }\n",
       "\n",
       "    .dataframe tbody tr th {\n",
       "        vertical-align: top;\n",
       "    }\n",
       "\n",
       "    .dataframe thead th {\n",
       "        text-align: right;\n",
       "    }\n",
       "</style>\n",
       "<table border=\"1\" class=\"dataframe\">\n",
       "  <thead>\n",
       "    <tr style=\"text-align: right;\">\n",
       "      <th></th>\n",
       "      <th>Product</th>\n",
       "      <th>Consumer complaint narrative</th>\n",
       "      <th>category_id</th>\n",
       "    </tr>\n",
       "  </thead>\n",
       "  <tbody>\n",
       "    <tr>\n",
       "      <th>919586</th>\n",
       "      <td>Debt collection</td>\n",
       "      <td>I received a call from ( XXXX ) XXXX telling m...</td>\n",
       "      <td>1</td>\n",
       "    </tr>\n",
       "  </tbody>\n",
       "</table>\n",
       "</div>"
      ],
      "text/plain": [
       "                Product                       Consumer complaint narrative  \\\n",
       "919586  Debt collection  I received a call from ( XXXX ) XXXX telling m...   \n",
       "\n",
       "        category_id  \n",
       "919586            1  "
      ]
     },
     "execution_count": 81,
     "metadata": {},
     "output_type": "execute_result"
    }
   ],
   "source": [
    "df[df['Consumer complaint narrative'] == \"I received a call from ( XXXX ) XXXX telling me I was being served with papers would I be home. I demanded information from the lady that called and she told me to call Coastline at XXXX, ask for legal department and use reference number XXXX. I looked up the number and determined this is a scam on this website XXXX XXXX I gave them no information and do not plan on calling them back. I was sure this was a scam but now I know that it is.\"]"
   ]
  },
  {
   "cell_type": "markdown",
   "metadata": {},
   "source": [
    "### Model Selection\n",
    "\n",
    "We are now ready to experiment with different machine learning models, evaluate their accuracy and find the source of any potential issues.\n",
    "\n",
    "We will benchmark the following four models:\n",
    "\n",
    "- Logistic Regression\n",
    "- (Multinomial) Naive Bayes\n",
    "- Linear Support Vector Machine\n",
    "- Random Forest"
   ]
  },
  {
   "cell_type": "code",
   "execution_count": 118,
   "metadata": {},
   "outputs": [],
   "source": [
    "from sklearn.linear_model import LogisticRegression\n",
    "from sklearn.ensemble import RandomForestClassifier\n",
    "from sklearn.svm import LinearSVC\n",
    "from sklearn.model_selection import cross_val_score\n",
    "from sklearn.metrics import confusion_matrix\n",
    "from sklearn import metrics\n",
    "from IPython.display import display\n",
    "import seaborn as sns"
   ]
  },
  {
   "cell_type": "code",
   "execution_count": 94,
   "metadata": {},
   "outputs": [],
   "source": [
    "models = [\n",
    "    RandomForestClassifier(n_estimators=200, max_depth=3, random_state=0),\n",
    "    LinearSVC(),\n",
    "    MultinomialNB(),\n",
    "    LogisticRegression(random_state=0),\n",
    "]"
   ]
  },
  {
   "cell_type": "code",
   "execution_count": 95,
   "metadata": {},
   "outputs": [],
   "source": [
    "CV = 5"
   ]
  },
  {
   "cell_type": "code",
   "execution_count": 96,
   "metadata": {},
   "outputs": [],
   "source": [
    "cv_df = pd.DataFrame(index=range(CV * len(models)))"
   ]
  },
  {
   "cell_type": "code",
   "execution_count": 97,
   "metadata": {},
   "outputs": [
    {
     "name": "stderr",
     "output_type": "stream",
     "text": [
      "/home/muzo/anaconda3/lib/python3.6/site-packages/sklearn/model_selection/_split.py:605: Warning: The least populated class in y has only 4 members, which is too few. The minimum number of members in any class cannot be less than n_splits=5.\n",
      "  % (min_groups, self.n_splits)), Warning)\n",
      "/home/muzo/anaconda3/lib/python3.6/site-packages/sklearn/model_selection/_split.py:605: Warning: The least populated class in y has only 4 members, which is too few. The minimum number of members in any class cannot be less than n_splits=5.\n",
      "  % (min_groups, self.n_splits)), Warning)\n",
      "/home/muzo/anaconda3/lib/python3.6/site-packages/sklearn/model_selection/_split.py:605: Warning: The least populated class in y has only 4 members, which is too few. The minimum number of members in any class cannot be less than n_splits=5.\n",
      "  % (min_groups, self.n_splits)), Warning)\n",
      "/home/muzo/anaconda3/lib/python3.6/site-packages/sklearn/model_selection/_split.py:605: Warning: The least populated class in y has only 4 members, which is too few. The minimum number of members in any class cannot be less than n_splits=5.\n",
      "  % (min_groups, self.n_splits)), Warning)\n"
     ]
    }
   ],
   "source": [
    "entries = []\n",
    "for model in models:\n",
    "  model_name = model.__class__.__name__\n",
    "  accuracies = cross_val_score(model, features, labels, scoring='accuracy', cv=CV)\n",
    "  for fold_idx, accuracy in enumerate(accuracies):\n",
    "    entries.append((model_name, fold_idx, accuracy))\n",
    "cv_df = pd.DataFrame(entries, columns=['model_name', 'fold_idx', 'accuracy'])"
   ]
  },
  {
   "cell_type": "code",
   "execution_count": 99,
   "metadata": {},
   "outputs": [
    {
     "data": {
      "image/png": "[encoded data removed]",
      "text/plain": [
       "<matplotlib.figure.Figure at 0x7fafa5499f60>"
      ]
     },
     "metadata": {},
     "output_type": "display_data"
    }
   ],
   "source": [
    "sns.boxplot(x='model_name', y='accuracy', data=cv_df)\n",
    "sns.stripplot(x='model_name', y='accuracy', data=cv_df, \n",
    "              size=8, jitter=True, edgecolor=\"gray\", linewidth=2)\n",
    "plt.show()"
   ]
  },
  {
   "cell_type": "code",
   "execution_count": 100,
   "metadata": {},
   "outputs": [
    {
     "data": {
      "text/plain": [
       "model_name\n",
       "LinearSVC                 0.643082\n",
       "LogisticRegression        0.612394\n",
       "MultinomialNB             0.527031\n",
       "RandomForestClassifier    0.384707\n",
       "Name: accuracy, dtype: float64"
      ]
     },
     "execution_count": 100,
     "metadata": {},
     "output_type": "execute_result"
    }
   ],
   "source": [
    "cv_df.groupby('model_name').accuracy.mean()"
   ]
  },
  {
   "cell_type": "markdown",
   "metadata": {},
   "source": [
    "LinearSVC and Logistic Regression perform better than the other two classifiers, with LinearSVC having a slight advantage with a median accuracy of around 82%."
   ]
  },
  {
   "cell_type": "markdown",
   "metadata": {},
   "source": [
    "## Model Evaluation\n",
    "Continue with our best model (LinearSVC), we are going to look at the confusion matrix, and show the discrepancies between predicted and actual labels."
   ]
  },
  {
   "cell_type": "code",
   "execution_count": 101,
   "metadata": {},
   "outputs": [],
   "source": [
    "model = LinearSVC()"
   ]
  },
  {
   "cell_type": "code",
   "execution_count": 102,
   "metadata": {},
   "outputs": [],
   "source": [
    "X_train, X_test, y_train, y_test, indices_train, indices_test = train_test_split(features, labels, df.index, test_size=0.33, random_state=0)"
   ]
  },
  {
   "cell_type": "code",
   "execution_count": 103,
   "metadata": {},
   "outputs": [
    {
     "data": {
      "text/plain": [
       "LinearSVC(C=1.0, class_weight=None, dual=True, fit_intercept=True,\n",
       "     intercept_scaling=1, loss='squared_hinge', max_iter=1000,\n",
       "     multi_class='ovr', penalty='l2', random_state=None, tol=0.0001,\n",
       "     verbose=0)"
      ]
     },
     "execution_count": 103,
     "metadata": {},
     "output_type": "execute_result"
    }
   ],
   "source": [
    "model.fit(X_train, y_train)"
   ]
  },
  {
   "cell_type": "code",
   "execution_count": 104,
   "metadata": {},
   "outputs": [],
   "source": [
    "y_pred = model.predict(X_test)"
   ]
  },
  {
   "cell_type": "code",
   "execution_count": 106,
   "metadata": {},
   "outputs": [],
   "source": [
    "conf_mat = confusion_matrix(y_test, y_pred)"
   ]
  },
  {
   "cell_type": "code",
   "execution_count": 108,
   "metadata": {},
   "outputs": [
    {
     "data": {
      "image/png": "[encoded data removed]",
      "text/plain": [
       "<matplotlib.figure.Figure at 0x7faf9047b1d0>"
      ]
     },
     "metadata": {},
     "output_type": "display_data"
    }
   ],
   "source": [
    "fig, ax = plt.subplots(figsize=(10,10))\n",
    "sns.heatmap(conf_mat, annot=True, fmt='d',\n",
    "            xticklabels=category_id_df.Product.values, yticklabels=category_id_df.Product.values)\n",
    "plt.ylabel('Actual')\n",
    "plt.xlabel('Predicted')\n",
    "plt.show()"
   ]
  },
  {
   "cell_type": "markdown",
   "metadata": {},
   "source": [
    "The vast majority of the predictions end up on the diagonal (predicted label = actual label), where we want them to be. However, there are a number of misclassifications, and it might be interesting to see what those are caused by:"
   ]
  },
  {
   "cell_type": "code",
   "execution_count": 114,
   "metadata": {},
   "outputs": [
    {
     "name": "stdout",
     "output_type": "stream",
     "text": [
      "'Credit reporting, credit repair services, or other personal consumer reports' predicted as 'Credit reporting' : 34 examples.\n"
     ]
    },
    {
     "data": {
      "text/html": [
       "<div>\n",
       "<style scoped>\n",
       "    .dataframe tbody tr th:only-of-type {\n",
       "        vertical-align: middle;\n",
       "    }\n",
       "\n",
       "    .dataframe tbody tr th {\n",
       "        vertical-align: top;\n",
       "    }\n",
       "\n",
       "    .dataframe thead th {\n",
       "        text-align: right;\n",
       "    }\n",
       "</style>\n",
       "<table border=\"1\" class=\"dataframe\">\n",
       "  <thead>\n",
       "    <tr style=\"text-align: right;\">\n",
       "      <th></th>\n",
       "      <th>Product</th>\n",
       "      <th>Consumer complaint narrative</th>\n",
       "    </tr>\n",
       "  </thead>\n",
       "  <tbody>\n",
       "    <tr>\n",
       "      <th>858433</th>\n",
       "      <td>Credit reporting, credit repair services, or o...</td>\n",
       "      <td>I was advised to contact you all regarding ite...</td>\n",
       "    </tr>\n",
       "    <tr>\n",
       "      <th>663834</th>\n",
       "      <td>Credit reporting, credit repair services, or o...</td>\n",
       "      <td>My father &amp; I went to XXXX in order to move my...</td>\n",
       "    </tr>\n",
       "    <tr>\n",
       "      <th>818693</th>\n",
       "      <td>Credit reporting, credit repair services, or o...</td>\n",
       "      <td>XXXX Inquiry from XX/XX/2016 + Finance i never...</td>\n",
       "    </tr>\n",
       "    <tr>\n",
       "      <th>639026</th>\n",
       "      <td>Credit reporting, credit repair services, or o...</td>\n",
       "      <td>I have tried numerous times to have the correc...</td>\n",
       "    </tr>\n",
       "    <tr>\n",
       "      <th>710290</th>\n",
       "      <td>Credit reporting, credit repair services, or o...</td>\n",
       "      <td>In XXXX 2017 I went to the Experian Credit Rep...</td>\n",
       "    </tr>\n",
       "    <tr>\n",
       "      <th>1045413</th>\n",
       "      <td>Credit reporting, credit repair services, or o...</td>\n",
       "      <td>I reported identity theft and the accounts wer...</td>\n",
       "    </tr>\n",
       "    <tr>\n",
       "      <th>928023</th>\n",
       "      <td>Credit reporting, credit repair services, or o...</td>\n",
       "      <td>I am very frustrated with all 3 reporting comp...</td>\n",
       "    </tr>\n",
       "    <tr>\n",
       "      <th>946782</th>\n",
       "      <td>Credit reporting, credit repair services, or o...</td>\n",
       "      <td>XXXX XXXX XXXX, The firSt one is XXXX XXXX {$4...</td>\n",
       "    </tr>\n",
       "    <tr>\n",
       "      <th>843495</th>\n",
       "      <td>Credit reporting, credit repair services, or o...</td>\n",
       "      <td>Applied for a car loan and was given an intere...</td>\n",
       "    </tr>\n",
       "    <tr>\n",
       "      <th>669723</th>\n",
       "      <td>Credit reporting, credit repair services, or o...</td>\n",
       "      <td>I filed a complaint with Transunion on XX/XX/X...</td>\n",
       "    </tr>\n",
       "    <tr>\n",
       "      <th>772020</th>\n",
       "      <td>Credit reporting, credit repair services, or o...</td>\n",
       "      <td>After checking my credit report from all three...</td>\n",
       "    </tr>\n",
       "    <tr>\n",
       "      <th>695299</th>\n",
       "      <td>Credit reporting, credit repair services, or o...</td>\n",
       "      <td>There are more inaccuracies than correct info....</td>\n",
       "    </tr>\n",
       "    <tr>\n",
       "      <th>923605</th>\n",
       "      <td>Credit reporting, credit repair services, or o...</td>\n",
       "      <td>m disturbed that XXXX and Experian are still r...</td>\n",
       "    </tr>\n",
       "    <tr>\n",
       "      <th>781132</th>\n",
       "      <td>Credit reporting, credit repair services, or o...</td>\n",
       "      <td>I recieved a credit alert that my synchrony XX...</td>\n",
       "    </tr>\n",
       "    <tr>\n",
       "      <th>769417</th>\n",
       "      <td>Credit reporting, credit repair services, or o...</td>\n",
       "      <td>Ever since I was forced to file Bankruptcy in ...</td>\n",
       "    </tr>\n",
       "    <tr>\n",
       "      <th>683992</th>\n",
       "      <td>Credit reporting, credit repair services, or o...</td>\n",
       "      <td>These two companies were filed on a bankruptcy...</td>\n",
       "    </tr>\n",
       "    <tr>\n",
       "      <th>232044</th>\n",
       "      <td>Credit reporting, credit repair services, or o...</td>\n",
       "      <td>Over the past few years I 've been disputing a...</td>\n",
       "    </tr>\n",
       "    <tr>\n",
       "      <th>1014522</th>\n",
       "      <td>Credit reporting, credit repair services, or o...</td>\n",
       "      <td>On XXXX XXXX XXXX I sent Transunion a certifie...</td>\n",
       "    </tr>\n",
       "    <tr>\n",
       "      <th>851661</th>\n",
       "      <td>Credit reporting, credit repair services, or o...</td>\n",
       "      <td>I sent a dispute letter to all the credit agen...</td>\n",
       "    </tr>\n",
       "    <tr>\n",
       "      <th>1050748</th>\n",
       "      <td>Credit reporting, credit repair services, or o...</td>\n",
       "      <td>I have unauthorized inquiries reflecting on my...</td>\n",
       "    </tr>\n",
       "    <tr>\n",
       "      <th>1093943</th>\n",
       "      <td>Credit reporting, credit repair services, or o...</td>\n",
       "      <td>According to Experian 's report number  XXXX ,...</td>\n",
       "    </tr>\n",
       "    <tr>\n",
       "      <th>703746</th>\n",
       "      <td>Credit reporting, credit repair services, or o...</td>\n",
       "      <td>There is XXXX XXXX XXXX account that are NOT m...</td>\n",
       "    </tr>\n",
       "    <tr>\n",
       "      <th>654547</th>\n",
       "      <td>Credit reporting, credit repair services, or o...</td>\n",
       "      <td>In XX/XX/2017, XXXX XXXX XXXX reported my acco...</td>\n",
       "    </tr>\n",
       "    <tr>\n",
       "      <th>790860</th>\n",
       "      <td>Credit reporting, credit repair services, or o...</td>\n",
       "      <td>XXXX XXXX from XX/XX/XXXX XXXX XXXX Inquiry fr...</td>\n",
       "    </tr>\n",
       "    <tr>\n",
       "      <th>892189</th>\n",
       "      <td>Credit reporting, credit repair services, or o...</td>\n",
       "      <td>On XX/XX/XXXX Experian placed a formerly dispu...</td>\n",
       "    </tr>\n",
       "    <tr>\n",
       "      <th>130523</th>\n",
       "      <td>Credit reporting, credit repair services, or o...</td>\n",
       "      <td>For the past 12 months I have sent information...</td>\n",
       "    </tr>\n",
       "    <tr>\n",
       "      <th>676671</th>\n",
       "      <td>Credit reporting, credit repair services, or o...</td>\n",
       "      <td>The XXXX XXXX  XXXX loan with XXXX is improper...</td>\n",
       "    </tr>\n",
       "    <tr>\n",
       "      <th>779582</th>\n",
       "      <td>Credit reporting, credit repair services, or o...</td>\n",
       "      <td>I have informed Trans-union that all my accoun...</td>\n",
       "    </tr>\n",
       "    <tr>\n",
       "      <th>211061</th>\n",
       "      <td>Credit reporting, credit repair services, or o...</td>\n",
       "      <td>M y Wife added me to her   XXXX   XXXX   card ...</td>\n",
       "    </tr>\n",
       "    <tr>\n",
       "      <th>734952</th>\n",
       "      <td>Credit reporting, credit repair services, or o...</td>\n",
       "      <td>i have great credit capital one refuses to giv...</td>\n",
       "    </tr>\n",
       "    <tr>\n",
       "      <th>1078131</th>\n",
       "      <td>Credit reporting, credit repair services, or o...</td>\n",
       "      <td>They run mega technology to hord info, yet the...</td>\n",
       "    </tr>\n",
       "    <tr>\n",
       "      <th>639227</th>\n",
       "      <td>Credit reporting, credit repair services, or o...</td>\n",
       "      <td>Original Creditor received my dispute and remo...</td>\n",
       "    </tr>\n",
       "    <tr>\n",
       "      <th>777731</th>\n",
       "      <td>Credit reporting, credit repair services, or o...</td>\n",
       "      <td>I called Transunion credit report 3 times. I t...</td>\n",
       "    </tr>\n",
       "    <tr>\n",
       "      <th>982582</th>\n",
       "      <td>Credit reporting, credit repair services, or o...</td>\n",
       "      <td>Despite the clarification l etter ( see attac ...</td>\n",
       "    </tr>\n",
       "  </tbody>\n",
       "</table>\n",
       "</div>"
      ],
      "text/plain": [
       "                                                   Product  \\\n",
       "858433   Credit reporting, credit repair services, or o...   \n",
       "663834   Credit reporting, credit repair services, or o...   \n",
       "818693   Credit reporting, credit repair services, or o...   \n",
       "639026   Credit reporting, credit repair services, or o...   \n",
       "710290   Credit reporting, credit repair services, or o...   \n",
       "1045413  Credit reporting, credit repair services, or o...   \n",
       "928023   Credit reporting, credit repair services, or o...   \n",
       "946782   Credit reporting, credit repair services, or o...   \n",
       "843495   Credit reporting, credit repair services, or o...   \n",
       "669723   Credit reporting, credit repair services, or o...   \n",
       "772020   Credit reporting, credit repair services, or o...   \n",
       "695299   Credit reporting, credit repair services, or o...   \n",
       "923605   Credit reporting, credit repair services, or o...   \n",
       "781132   Credit reporting, credit repair services, or o...   \n",
       "769417   Credit reporting, credit repair services, or o...   \n",
       "683992   Credit reporting, credit repair services, or o...   \n",
       "232044   Credit reporting, credit repair services, or o...   \n",
       "1014522  Credit reporting, credit repair services, or o...   \n",
       "851661   Credit reporting, credit repair services, or o...   \n",
       "1050748  Credit reporting, credit repair services, or o...   \n",
       "1093943  Credit reporting, credit repair services, or o...   \n",
       "703746   Credit reporting, credit repair services, or o...   \n",
       "654547   Credit reporting, credit repair services, or o...   \n",
       "790860   Credit reporting, credit repair services, or o...   \n",
       "892189   Credit reporting, credit repair services, or o...   \n",
       "130523   Credit reporting, credit repair services, or o...   \n",
       "676671   Credit reporting, credit repair services, or o...   \n",
       "779582   Credit reporting, credit repair services, or o...   \n",
       "211061   Credit reporting, credit repair services, or o...   \n",
       "734952   Credit reporting, credit repair services, or o...   \n",
       "1078131  Credit reporting, credit repair services, or o...   \n",
       "639227   Credit reporting, credit repair services, or o...   \n",
       "777731   Credit reporting, credit repair services, or o...   \n",
       "982582   Credit reporting, credit repair services, or o...   \n",
       "\n",
       "                              Consumer complaint narrative  \n",
       "858433   I was advised to contact you all regarding ite...  \n",
       "663834   My father & I went to XXXX in order to move my...  \n",
       "818693   XXXX Inquiry from XX/XX/2016 + Finance i never...  \n",
       "639026   I have tried numerous times to have the correc...  \n",
       "710290   In XXXX 2017 I went to the Experian Credit Rep...  \n",
       "1045413  I reported identity theft and the accounts wer...  \n",
       "928023   I am very frustrated with all 3 reporting comp...  \n",
       "946782   XXXX XXXX XXXX, The firSt one is XXXX XXXX {$4...  \n",
       "843495   Applied for a car loan and was given an intere...  \n",
       "669723   I filed a complaint with Transunion on XX/XX/X...  \n",
       "772020   After checking my credit report from all three...  \n",
       "695299   There are more inaccuracies than correct info....  \n",
       "923605   m disturbed that XXXX and Experian are still r...  \n",
       "781132   I recieved a credit alert that my synchrony XX...  \n",
       "769417   Ever since I was forced to file Bankruptcy in ...  \n",
       "683992   These two companies were filed on a bankruptcy...  \n",
       "232044   Over the past few years I 've been disputing a...  \n",
       "1014522  On XXXX XXXX XXXX I sent Transunion a certifie...  \n",
       "851661   I sent a dispute letter to all the credit agen...  \n",
       "1050748  I have unauthorized inquiries reflecting on my...  \n",
       "1093943  According to Experian 's report number  XXXX ,...  \n",
       "703746   There is XXXX XXXX XXXX account that are NOT m...  \n",
       "654547   In XX/XX/2017, XXXX XXXX XXXX reported my acco...  \n",
       "790860   XXXX XXXX from XX/XX/XXXX XXXX XXXX Inquiry fr...  \n",
       "892189   On XX/XX/XXXX Experian placed a formerly dispu...  \n",
       "130523   For the past 12 months I have sent information...  \n",
       "676671   The XXXX XXXX  XXXX loan with XXXX is improper...  \n",
       "779582   I have informed Trans-union that all my accoun...  \n",
       "211061   M y Wife added me to her   XXXX   XXXX   card ...  \n",
       "734952   i have great credit capital one refuses to giv...  \n",
       "1078131  They run mega technology to hord info, yet the...  \n",
       "639227   Original Creditor received my dispute and remo...  \n",
       "777731   I called Transunion credit report 3 times. I t...  \n",
       "982582   Despite the clarification l etter ( see attac ...  "
      ]
     },
     "metadata": {},
     "output_type": "display_data"
    },
    {
     "name": "stdout",
     "output_type": "stream",
     "text": [
      "\n"
     ]
    },
    {
     "ename": "IndexError",
     "evalue": "index 17 is out of bounds for axis 0 with size 17",
     "output_type": "error",
     "traceback": [
      "\u001b[0;31m---------------------------------------------------------------------------\u001b[0m",
      "\u001b[0;31mIndexError\u001b[0m                                Traceback (most recent call last)",
      "\u001b[0;32m<ipython-input-114-9015a350f0cf>\u001b[0m in \u001b[0;36m<module>\u001b[0;34m()\u001b[0m\n\u001b[1;32m      1\u001b[0m \u001b[0;32mfor\u001b[0m \u001b[0mpredicted\u001b[0m \u001b[0;32min\u001b[0m \u001b[0mcategory_id_df\u001b[0m\u001b[0;34m.\u001b[0m\u001b[0mcategory_id\u001b[0m\u001b[0;34m:\u001b[0m\u001b[0;34m\u001b[0m\u001b[0m\n\u001b[1;32m      2\u001b[0m   \u001b[0;32mfor\u001b[0m \u001b[0mactual\u001b[0m \u001b[0;32min\u001b[0m \u001b[0mcategory_id_df\u001b[0m\u001b[0;34m.\u001b[0m\u001b[0mcategory_id\u001b[0m\u001b[0;34m:\u001b[0m\u001b[0;34m\u001b[0m\u001b[0m\n\u001b[0;32m----> 3\u001b[0;31m     \u001b[0;32mif\u001b[0m \u001b[0mpredicted\u001b[0m \u001b[0;34m!=\u001b[0m \u001b[0mactual\u001b[0m \u001b[0;32mand\u001b[0m \u001b[0mconf_mat\u001b[0m\u001b[0;34m[\u001b[0m\u001b[0mactual\u001b[0m\u001b[0;34m,\u001b[0m \u001b[0mpredicted\u001b[0m\u001b[0;34m]\u001b[0m \u001b[0;34m>=\u001b[0m \u001b[0;36m10\u001b[0m\u001b[0;34m:\u001b[0m\u001b[0;34m\u001b[0m\u001b[0m\n\u001b[0m\u001b[1;32m      4\u001b[0m       \u001b[0mprint\u001b[0m\u001b[0;34m(\u001b[0m\u001b[0;34m\"'{}' predicted as '{}' : {} examples.\"\u001b[0m\u001b[0;34m.\u001b[0m\u001b[0mformat\u001b[0m\u001b[0;34m(\u001b[0m\u001b[0mid_to_category\u001b[0m\u001b[0;34m[\u001b[0m\u001b[0mactual\u001b[0m\u001b[0;34m]\u001b[0m\u001b[0;34m,\u001b[0m \u001b[0mid_to_category\u001b[0m\u001b[0;34m[\u001b[0m\u001b[0mpredicted\u001b[0m\u001b[0;34m]\u001b[0m\u001b[0;34m,\u001b[0m \u001b[0mconf_mat\u001b[0m\u001b[0;34m[\u001b[0m\u001b[0mactual\u001b[0m\u001b[0;34m,\u001b[0m \u001b[0mpredicted\u001b[0m\u001b[0;34m]\u001b[0m\u001b[0;34m)\u001b[0m\u001b[0;34m)\u001b[0m\u001b[0;34m\u001b[0m\u001b[0m\n\u001b[1;32m      5\u001b[0m       \u001b[0mdisplay\u001b[0m\u001b[0;34m(\u001b[0m\u001b[0mdf\u001b[0m\u001b[0;34m.\u001b[0m\u001b[0mloc\u001b[0m\u001b[0;34m[\u001b[0m\u001b[0mindices_test\u001b[0m\u001b[0;34m[\u001b[0m\u001b[0;34m(\u001b[0m\u001b[0my_test\u001b[0m \u001b[0;34m==\u001b[0m \u001b[0mactual\u001b[0m\u001b[0;34m)\u001b[0m \u001b[0;34m&\u001b[0m \u001b[0;34m(\u001b[0m\u001b[0my_pred\u001b[0m \u001b[0;34m==\u001b[0m \u001b[0mpredicted\u001b[0m\u001b[0;34m)\u001b[0m\u001b[0;34m]\u001b[0m\u001b[0;34m]\u001b[0m\u001b[0;34m[\u001b[0m\u001b[0;34m[\u001b[0m\u001b[0;34m'Product'\u001b[0m\u001b[0;34m,\u001b[0m \u001b[0;34m'Consumer complaint narrative'\u001b[0m\u001b[0;34m]\u001b[0m\u001b[0;34m]\u001b[0m\u001b[0;34m)\u001b[0m\u001b[0;34m\u001b[0m\u001b[0m\n",
      "\u001b[0;31mIndexError\u001b[0m: index 17 is out of bounds for axis 0 with size 17"
     ]
    }
   ],
   "source": [
    "for predicted in category_id_df.category_id:\n",
    "  for actual in category_id_df.category_id:\n",
    "    if predicted != actual and conf_mat[actual, predicted] >= 10:\n",
    "      print(\"'{}' predicted as '{}' : {} examples.\".format(id_to_category[actual], id_to_category[predicted], conf_mat[actual, predicted]))\n",
    "      display(df.loc[indices_test[(y_test == actual) & (y_pred == predicted)]][['Product', 'Consumer complaint narrative']])\n",
    "      print('')"
   ]
  },
  {
   "cell_type": "markdown",
   "metadata": {},
   "source": [
    "As you can see, some of the misclassified complaints are complaints that touch on more than one subjects (for example, complaints involving both credit card and credit report). This sort of errors will always happen."
   ]
  },
  {
   "cell_type": "markdown",
   "metadata": {},
   "source": [
    "Again, we use the chi-squared test to find the terms that are the most correlated with each of the categories:"
   ]
  },
  {
   "cell_type": "code",
   "execution_count": 115,
   "metadata": {},
   "outputs": [
    {
     "data": {
      "text/plain": [
       "LinearSVC(C=1.0, class_weight=None, dual=True, fit_intercept=True,\n",
       "     intercept_scaling=1, loss='squared_hinge', max_iter=1000,\n",
       "     multi_class='ovr', penalty='l2', random_state=None, tol=0.0001,\n",
       "     verbose=0)"
      ]
     },
     "execution_count": 115,
     "metadata": {},
     "output_type": "execute_result"
    }
   ],
   "source": [
    "model.fit(features, labels)"
   ]
  },
  {
   "cell_type": "code",
   "execution_count": 116,
   "metadata": {},
   "outputs": [
    {
     "name": "stdout",
     "output_type": "stream",
     "text": [
      "# 'Bank account or service':\n",
      "  . Top unigrams:\n",
      "       . bank\n",
      "       . debit\n",
      "  . Top bigrams:\n",
      "       . debit card\n",
      "       . bank card\n",
      "# 'Checking or savings account':\n",
      "  . Top unigrams:\n",
      "       . bank\n",
      "       . transaction\n",
      "  . Top bigrams:\n",
      "       . stop payment\n",
      "       . check xxxx\n",
      "# 'Consumer Loan':\n",
      "  . Top unigrams:\n",
      "       . vehicle\n",
      "       . loan\n",
      "  . Top bigrams:\n",
      "       . auto loan\n",
      "       . paid account\n",
      "# 'Credit card':\n",
      "  . Top unigrams:\n",
      "       . card\n",
      "       . apr\n",
      "  . Top bigrams:\n",
      "       . collection calls\n",
      "       . new card\n",
      "# 'Credit card or prepaid card':\n",
      "  . Top unigrams:\n",
      "       . card\n",
      "       . citi\n",
      "  . Top bigrams:\n",
      "       . minimum payment\n",
      "       . credit card\n",
      "# 'Credit reporting':\n",
      "  . Top unigrams:\n",
      "       . experian\n",
      "       . equifax\n",
      "  . Top bigrams:\n",
      "       . xxxx bureaus\n",
      "       . unauthorized fraudulent\n",
      "# 'Credit reporting, credit repair services, or other personal consumer reports':\n",
      "  . Top unigrams:\n",
      "       . credit\n",
      "       . equifax\n",
      "  . Top bigrams:\n",
      "       . sent dispute\n",
      "       . xxxx xxxx\n",
      "# 'Debt collection':\n",
      "  . Top unigrams:\n",
      "       . debt\n",
      "       . collection\n",
      "  . Top bigrams:\n",
      "       . car sold\n",
      "       . debt xxxx\n",
      "# 'Money transfer, virtual currency, or money service':\n",
      "  . Top unigrams:\n",
      "       . coinbase\n",
      "       . paypal\n",
      "  . Top bigrams:\n",
      "       . western union\n",
      "       . request information\n",
      "# 'Money transfers':\n",
      "  . Top unigrams:\n",
      "       . paypal\n",
      "       . game\n",
      "  . Top bigrams:\n",
      "       . tracking number\n",
      "       . money deposited\n",
      "# 'Mortgage':\n",
      "  . Top unigrams:\n",
      "       . mortgage\n",
      "       . modification\n",
      "  . Top bigrams:\n",
      "       . mortgage payment\n",
      "       . mortgage xxxx\n",
      "# 'Other financial service':\n",
      "  . Top unigrams:\n",
      "       . repair\n",
      "       . statements\n",
      "  . Top bigrams:\n",
      "       . cashed check\n",
      "       . account provided\n",
      "# 'Payday loan':\n",
      "  . Top unigrams:\n",
      "       . arrest\n",
      "       . mobile\n",
      "  . Top bigrams:\n",
      "       . receiving calls\n",
      "       . loan sent\n",
      "# 'Payday loan, title loan, or personal loan':\n",
      "  . Top unigrams:\n",
      "       . loan\n",
      "       . sunday\n",
      "  . Top bigrams:\n",
      "       . business accounts\n",
      "       . loan forgiveness\n",
      "# 'Prepaid card':\n",
      "  . Top unigrams:\n",
      "       . prepaid\n",
      "       . card\n",
      "  . Top bigrams:\n",
      "       . direct deposits\n",
      "       . access funds\n",
      "# 'Student loan':\n",
      "  . Top unigrams:\n",
      "       . navient\n",
      "       . loans\n",
      "  . Top bigrams:\n",
      "       . xxxx school\n",
      "       . xxxx navient\n",
      "# 'Vehicle loan or lease':\n",
      "  . Top unigrams:\n",
      "       . car\n",
      "       . financial\n",
      "  . Top bigrams:\n",
      "       . letter mailed\n",
      "       . tell xxxx\n"
     ]
    },
    {
     "ename": "IndexError",
     "evalue": "index 17 is out of bounds for axis 0 with size 17",
     "output_type": "error",
     "traceback": [
      "\u001b[0;31m---------------------------------------------------------------------------\u001b[0m",
      "\u001b[0;31mIndexError\u001b[0m                                Traceback (most recent call last)",
      "\u001b[0;32m<ipython-input-116-21293a918ca3>\u001b[0m in \u001b[0;36m<module>\u001b[0;34m()\u001b[0m\n\u001b[1;32m      1\u001b[0m \u001b[0mN\u001b[0m \u001b[0;34m=\u001b[0m \u001b[0;36m2\u001b[0m\u001b[0;34m\u001b[0m\u001b[0m\n\u001b[1;32m      2\u001b[0m \u001b[0;32mfor\u001b[0m \u001b[0mProduct\u001b[0m\u001b[0;34m,\u001b[0m \u001b[0mcategory_id\u001b[0m \u001b[0;32min\u001b[0m \u001b[0msorted\u001b[0m\u001b[0;34m(\u001b[0m\u001b[0mcategory_to_id\u001b[0m\u001b[0;34m.\u001b[0m\u001b[0mitems\u001b[0m\u001b[0;34m(\u001b[0m\u001b[0;34m)\u001b[0m\u001b[0;34m)\u001b[0m\u001b[0;34m:\u001b[0m\u001b[0;34m\u001b[0m\u001b[0m\n\u001b[0;32m----> 3\u001b[0;31m   \u001b[0mindices\u001b[0m \u001b[0;34m=\u001b[0m \u001b[0mnp\u001b[0m\u001b[0;34m.\u001b[0m\u001b[0margsort\u001b[0m\u001b[0;34m(\u001b[0m\u001b[0mmodel\u001b[0m\u001b[0;34m.\u001b[0m\u001b[0mcoef_\u001b[0m\u001b[0;34m[\u001b[0m\u001b[0mcategory_id\u001b[0m\u001b[0;34m]\u001b[0m\u001b[0;34m)\u001b[0m\u001b[0;34m\u001b[0m\u001b[0m\n\u001b[0m\u001b[1;32m      4\u001b[0m   \u001b[0mfeature_names\u001b[0m \u001b[0;34m=\u001b[0m \u001b[0mnp\u001b[0m\u001b[0;34m.\u001b[0m\u001b[0marray\u001b[0m\u001b[0;34m(\u001b[0m\u001b[0mtfidf\u001b[0m\u001b[0;34m.\u001b[0m\u001b[0mget_feature_names\u001b[0m\u001b[0;34m(\u001b[0m\u001b[0;34m)\u001b[0m\u001b[0;34m)\u001b[0m\u001b[0;34m[\u001b[0m\u001b[0mindices\u001b[0m\u001b[0;34m]\u001b[0m\u001b[0;34m\u001b[0m\u001b[0m\n\u001b[1;32m      5\u001b[0m   \u001b[0munigrams\u001b[0m \u001b[0;34m=\u001b[0m \u001b[0;34m[\u001b[0m\u001b[0mv\u001b[0m \u001b[0;32mfor\u001b[0m \u001b[0mv\u001b[0m \u001b[0;32min\u001b[0m \u001b[0mreversed\u001b[0m\u001b[0;34m(\u001b[0m\u001b[0mfeature_names\u001b[0m\u001b[0;34m)\u001b[0m \u001b[0;32mif\u001b[0m \u001b[0mlen\u001b[0m\u001b[0;34m(\u001b[0m\u001b[0mv\u001b[0m\u001b[0;34m.\u001b[0m\u001b[0msplit\u001b[0m\u001b[0;34m(\u001b[0m\u001b[0;34m' '\u001b[0m\u001b[0;34m)\u001b[0m\u001b[0;34m)\u001b[0m \u001b[0;34m==\u001b[0m \u001b[0;36m1\u001b[0m\u001b[0;34m]\u001b[0m\u001b[0;34m[\u001b[0m\u001b[0;34m:\u001b[0m\u001b[0mN\u001b[0m\u001b[0;34m]\u001b[0m\u001b[0;34m\u001b[0m\u001b[0m\n",
      "\u001b[0;31mIndexError\u001b[0m: index 17 is out of bounds for axis 0 with size 17"
     ]
    }
   ],
   "source": [
    "N = 2\n",
    "for Product, category_id in sorted(category_to_id.items()):\n",
    "  indices = np.argsort(model.coef_[category_id])\n",
    "  feature_names = np.array(tfidf.get_feature_names())[indices]\n",
    "  unigrams = [v for v in reversed(feature_names) if len(v.split(' ')) == 1][:N]\n",
    "  bigrams = [v for v in reversed(feature_names) if len(v.split(' ')) == 2][:N]\n",
    "  print(\"# '{}':\".format(Product))\n",
    "  print(\"  . Top unigrams:\\n       . {}\".format('\\n       . '.join(unigrams)))\n",
    "  print(\"  . Top bigrams:\\n       . {}\".format('\\n       . '.join(bigrams)))"
   ]
  },
  {
   "cell_type": "markdown",
   "metadata": {},
   "source": [
    "They are consistent within our expectation.\n",
    "\n"
   ]
  },
  {
   "cell_type": "markdown",
   "metadata": {},
   "source": [
    "Finally, we print out the classification report for each class:\n",
    "\n"
   ]
  },
  {
   "cell_type": "code",
   "execution_count": 119,
   "metadata": {},
   "outputs": [
    {
     "name": "stdout",
     "output_type": "stream",
     "text": [
      "                                                                              precision    recall  f1-score   support\n",
      "\n",
      "                                                               Consumer Loan       0.42      0.34      0.38        90\n",
      "                                                                    Mortgage       0.68      0.88      0.76       223\n",
      "                                                                Student loan       0.81      0.93      0.87       148\n",
      "                                                             Debt collection       0.62      0.50      0.55        56\n",
      "Credit reporting, credit repair services, or other personal consumer reports       0.00      0.00      0.00         8\n",
      "                                                     Bank account or service       0.61      0.77      0.68        53\n",
      "                          Money transfer, virtual currency, or money service       0.00      0.00      0.00         4\n",
      "                                                            Credit reporting       0.84      0.77      0.81        70\n",
      "                                                             Money transfers       0.64      0.31      0.42        29\n",
      "                                                                 Credit card       0.00      0.00      0.00        13\n",
      "                                   Payday loan, title loan, or personal loan       0.59      0.63      0.61       208\n",
      "                                                 Credit card or prepaid card       0.00      0.00      0.00         1\n",
      "                                                 Checking or savings account       0.00      0.00      0.00         8\n",
      "                                                                Prepaid card       0.00      0.00      0.00         3\n",
      "                                                       Vehicle loan or lease       0.41      0.19      0.26        36\n",
      "                                                                 Payday loan       0.57      0.57      0.57         7\n",
      "                                                     Other financial service       0.44      0.21      0.29        33\n",
      "\n",
      "                                                                 avg / total       0.61      0.65      0.62       990\n",
      "\n"
     ]
    },
    {
     "name": "stderr",
     "output_type": "stream",
     "text": [
      "/home/muzo/anaconda3/lib/python3.6/site-packages/sklearn/metrics/classification.py:1135: UndefinedMetricWarning: Precision and F-score are ill-defined and being set to 0.0 in labels with no predicted samples.\n",
      "  'precision', 'predicted', average, warn_for)\n"
     ]
    }
   ],
   "source": [
    "print(metrics.classification_report(y_test, y_pred, target_names=df['Product'].unique()))\n"
   ]
  }
 ],
 "metadata": {
  "kernelspec": {
   "display_name": "Python 3",
   "language": "python",
   "name": "python3"
  },
  "language_info": {
   "codemirror_mode": {
    "name": "ipython",
    "version": 3
   },
   "file_extension": ".py",
   "mimetype": "text/x-python",
   "name": "python",
   "nbconvert_exporter": "python",
   "pygments_lexer": "ipython3",
   "version": "3.6.0"
  }
 },
 "nbformat": 4,
 "nbformat_minor": 2
}
